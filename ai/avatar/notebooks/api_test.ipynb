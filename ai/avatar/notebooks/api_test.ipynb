# # API 연동 테스트용 노트북
# File: api_test.ipynb

